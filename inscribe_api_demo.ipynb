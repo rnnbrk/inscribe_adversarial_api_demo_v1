{
 "cells": [
  {
   "cell_type": "code",
   "execution_count": null,
   "metadata": {},
   "outputs": [],
   "source": [
    "# Imports and dependencies\n",
    "\n",
    "import requests\n",
    "import json\n",
    "from PIL import Image\n",
    "from io import BytesIO\n",
    "import numpy as np\n",
    "import matplotlib.pyplot as plt\n",
    "\n",
    "original = \"https://i.imgur.com/M2IbhhY.jpg\"\n",
    "adversary = \"https://i.imgur.com/K14loOT.jpg\""
   ]
  },
  {
   "cell_type": "code",
   "execution_count": null,
   "metadata": {},
   "outputs": [],
   "source": [
    "# Display images\n",
    "\n",
    "def display_image(img,title):\n",
    "    response = requests.get(img)\n",
    "    img = Image.open(BytesIO(response.content))\n",
    "    img_arr = np.array(img)\n",
    "    plt.imshow(img_arr)\n",
    "    plt.title(title)\n",
    "    plt.show() \n",
    "\n",
    "display_image(original,'Image 1: legitimate')\n",
    "display_image(adversary,'Image 2: adversarial')"
   ]
  },
  {
   "cell_type": "code",
   "execution_count": 9,
   "metadata": {},
   "outputs": [
    {
     "name": "stdout",
     "output_type": "stream",
     "text": [
      "\n",
      "Calling SightEngine Facial Identification API\n",
      "\n",
      "Image 1: {'name': 'Vladimir Putin', 'prob': 0.92}        Image 2: {'name': 'Jacques Dynam', 'prob': 0.75}\n"
     ]
    }
   ],
   "source": [
    "# Test images against publicly accessible facial recognition API\n",
    "\n",
    "def detect_celebrity(image):\n",
    "    ## SightEngine Facial recognition API endpoint URL and headers\n",
    "    data = [\n",
    "        ('models', 'celebrities'),\n",
    "        ('api_user', '209085908'),\n",
    "        ('api_secret', 'q5NWgTPVHPZvPfsFqr6F'),\n",
    "        ('url', image),\n",
    "    ]\n",
    "    try:\n",
    "        response = requests.post(\n",
    "            'https://api.sightengine.com/1.0/check.json', data=data)\n",
    "        client_res = response.json()\n",
    "        return str(client_res['faces'][0]['celebrity'][0])\n",
    "    except:\n",
    "        return 'error'\n",
    "\n",
    "print('\\nCalling SightEngine Facial Identification API')\n",
    "res_ori = detect_celebrity(original)\n",
    "res_adv = detect_celebrity(adversary)\n",
    "\n",
    "print('\\nImage 1: ' + res_ori + '        Image 2: ' + res_adv)"
   ]
  },
  {
   "cell_type": "code",
   "execution_count": 10,
   "metadata": {},
   "outputs": [
    {
     "name": "stdout",
     "output_type": "stream",
     "text": [
      "\n",
      "Calling Inscribe Adversarial Detection API\n",
      "Image 1: {'result': 'Legitimate', 'score': '0.0'}        Image 2: {'result': 'Adversary', 'score': '1.0'}\n"
     ]
    }
   ],
   "source": [
    "# Test images against Inscribe's adversarial example detection API\n",
    "\n",
    "def detect_adversary(image):\n",
    "    ## Adversarial detection API endpoint URL and headers\n",
    "    inscribe_url = \"https://ii8vculmmi.execute-api.us-west-2.amazonaws.com/dev/v1\"\n",
    "    inscribe_headers = {\n",
    "        'Content-Type': 'application/json',\n",
    "        'x-api-key': 'ncAbKBsoIi6OHK3Kv8dlc2VKcIsyMdge6nRcbyBP'\n",
    "    }\n",
    "    data = {\n",
    "        'image': image,\n",
    "        'origin_filename': \"\",\n",
    "        'origin_id': \"\",\n",
    "        'origin_ip': \"\",\n",
    "        'origin_dtime': \"\",\n",
    "        'origin_location': \"\"\n",
    "    }\n",
    "    try:\n",
    "        r = requests.post(\n",
    "        inscribe_url, headers=inscribe_headers, data=json.dumps(data))\n",
    "        inscribe_res = r.json()\n",
    "        return str(inscribe_res)\n",
    "    except:\n",
    "        return 'error'\n",
    "\n",
    "print('\\nCalling Inscribe Adversarial Detection API')\n",
    "res_ori = detect_adversary(original)\n",
    "res_adv = detect_adversary(adversary)\n",
    "\n",
    "print('\\nImage 1: ' + res_ori + '        Image 2: ' + res_adv)"
   ]
  },
  {
   "cell_type": "code",
   "execution_count": null,
   "metadata": {},
   "outputs": [],
   "source": []
  }
 ],
 "metadata": {
  "kernelspec": {
   "display_name": "Python 2",
   "language": "python",
   "name": "python2"
  },
  "language_info": {
   "codemirror_mode": {
    "name": "ipython",
    "version": 3
   },
   "file_extension": ".py",
   "mimetype": "text/x-python",
   "name": "python",
   "nbconvert_exporter": "python",
   "pygments_lexer": "ipython3",
   "version": "3.6.4"
  }
 },
 "nbformat": 4,
 "nbformat_minor": 2
}
